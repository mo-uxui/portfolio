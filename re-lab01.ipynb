{
 "cells": [
  {
   "cell_type": "markdown",
   "id": "355fe4e8",
   "metadata": {},
   "source": [
    "## Exercise 1 – Simple Profile (1.5 points)\n",
    "Write a program that:\n",
    "1. Asks the user for `first_name`, `last_name`, and `age` using `input()`.\n",
    "2. Creates a variable `full_name` in the format `First Last`.\n",
    "3. Prints one line: `<full_name> is <age> years old.`\n",
    "4. Prints a second line: `Letters (excl. spaces): <count>` where `<count>` is the number of letters in `full_name` without spaces.\n",
    "\n",
    "**Notes**: Use only string methods (e.g., `.replace(' ', '')`) and built-in functions.\n",
    "\n",
    "**Marking (1.5 pts)**\n",
    "- Inputs and variables created correctly (0.6)\n",
    "- Correct letter count excluding spaces (0.6)\n",
    "- Clean, labeled output with f-strings (0.3)"
   ]
  },
  {
   "cell_type": "markdown",
   "id": "1cb76f07",
   "metadata": {},
   "source": [
    "# 🧪 Lab 1 - Week 1\n",
    "\n",
    "This lab will be graded. It checks basics from Week 1: variables, naming, input, and f-strings.\n",
    "\n",
    "**Instructions**\n",
    "- Write clear, readable code with meaningful variable names.\n",
    "- Use f-strings for all printed output.\n",
    "- Run all cells before submitting.\n",
    "\n",
    "Total: 3.5 points."
   ]
  },
  {
   "cell_type": "code",
   "execution_count": 13,
   "id": "b17166a3",
   "metadata": {},
   "outputs": [
    {
     "name": "stdout",
     "output_type": "stream",
     "text": [
      "Mohammed Ali Algharibawi is 23 years old.\n",
      "Letters: 22\n"
     ]
    }
   ],
   "source": [
    "\n",
    "\n",
    "first_name = input(\"Enter your first name: \")\n",
    "last_name = input(\"Enter your last name: \")\n",
    "age = input(\"Enter your age: \")\n",
    "\n",
    "full_name = f\"{first_name} {last_name}\"\n",
    "print(f'{full_name} is {age} years old.')\n",
    "\n",
    "letters_count = len(full_name.replace(\" \", \"\"))\n",
    "print(f'Letters: {letters_count}')\n",
    "\n"
   ]
  },
  {
   "cell_type": "markdown",
   "id": "dcb40af3",
   "metadata": {},
   "source": [
    "## Exercise 2 – Two-Number Report (2 points)\n",
    "Write a program that:\n",
    "1. Asks the user for two numbers using `input()` and converts them to **float**.\n",
    "2. Calculates and prints (each on its own line with labels):\n",
    "   - Sum\n",
    "   - Difference (`num1 - num2`)\n",
    "   - Product\n",
    "   - Average of the two numbers\n",
    "3. Print the `type()` of the two converted variables to confirm they are floats.\n",
    "\n",
    "**Marking (2 pts)**\n",
    "- Correct input conversion to float (0.8)\n",
    "- Correct calculations and labeled output (0.8)\n",
    "- Types shown clearly (0.4)"
   ]
  },
  {
   "cell_type": "code",
   "execution_count": 14,
   "id": "29938f1e",
   "metadata": {},
   "outputs": [
    {
     "name": "stdout",
     "output_type": "stream",
     "text": [
      "Sum: 7.0\n",
      "Difference: 2.0\n",
      "Product: 11.25\n",
      "Average: 3.5\n",
      "<class 'float'>\n",
      "<class 'float'>\n"
     ]
    }
   ],
   "source": [
    "num1 = float(input(\"Enter first number: \")) \n",
    "num2 = float(input(\"Enter second number: \")) \n",
    "print(f'Sum: {num1 + num2}')\n",
    "print(f'Difference: {num1 - num2}')\n",
    "print(f'Product: {num1 * num2}')\n",
    "print(f'Average: {(num1 + num2) / 2}')\n",
    "print(type(num1))\n",
    "print(type(num2))"
   ]
  }
 ],
 "metadata": {
  "kernelspec": {
   "display_name": "Python 3",
   "language": "python",
   "name": "python3"
  },
  "language_info": {
   "codemirror_mode": {
    "name": "ipython",
    "version": 3
   },
   "file_extension": ".py",
   "mimetype": "text/x-python",
   "name": "python",
   "nbconvert_exporter": "python",
   "pygments_lexer": "ipython3",
   "version": "3.13.7"
  }
 },
 "nbformat": 4,
 "nbformat_minor": 5
}
